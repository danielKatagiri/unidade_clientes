{
 "cells": [
  {
   "cell_type": "markdown",
   "metadata": {},
   "source": [
    "### Inicialização"
   ]
  },
  {
   "cell_type": "code",
   "execution_count": 1,
   "metadata": {},
   "outputs": [],
   "source": [
    "import pandas as pd\n",
    "import xlrd\n",
    "import openpyxl\n",
    "import requests\n",
    "import googlemaps\n",
    "import time\n",
    "import xlsxwriter\n",
    "from datetime import datetime\n",
    "from typing import Optional"
   ]
  },
  {
   "cell_type": "code",
   "execution_count": 2,
   "metadata": {},
   "outputs": [],
   "source": [
    "gmaps = googlemaps.Client(key=\"Insert key\")"
   ]
  },
  {
   "cell_type": "code",
   "execution_count": 3,
   "metadata": {},
   "outputs": [],
   "source": [
    "df_unidades = pd.read_excel(\"../data/SampleAddress.xlsx\", sheet_name=\"Dasa\")\n",
    "df_clientes = pd.read_excel(\"../data/SampleAddress.xlsx\", sheet_name=\"Cliente\")"
   ]
  },
  {
   "cell_type": "markdown",
   "metadata": {},
   "source": [
    "### Visualização dos dados"
   ]
  },
  {
   "cell_type": "code",
   "execution_count": 4,
   "metadata": {},
   "outputs": [
    {
     "data": {
      "text/html": [
       "<div>\n",
       "<style scoped>\n",
       "    .dataframe tbody tr th:only-of-type {\n",
       "        vertical-align: middle;\n",
       "    }\n",
       "\n",
       "    .dataframe tbody tr th {\n",
       "        vertical-align: top;\n",
       "    }\n",
       "\n",
       "    .dataframe thead th {\n",
       "        text-align: right;\n",
       "    }\n",
       "</style>\n",
       "<table border=\"1\" class=\"dataframe\">\n",
       "  <thead>\n",
       "    <tr style=\"text-align: right;\">\n",
       "      <th></th>\n",
       "      <th>Nome site</th>\n",
       "      <th>CÓDIGO SAP</th>\n",
       "      <th>TIPO DE UNIDADE</th>\n",
       "      <th>MARCA</th>\n",
       "      <th>PAÍS</th>\n",
       "      <th>ESTADO</th>\n",
       "      <th>REGIONAL</th>\n",
       "      <th>ENDEREÇO</th>\n",
       "      <th>CEP</th>\n",
       "      <th>CIDADE</th>\n",
       "      <th>RESPONSÁVEL</th>\n",
       "    </tr>\n",
       "  </thead>\n",
       "  <tbody>\n",
       "    <tr>\n",
       "      <th>0</th>\n",
       "      <td>Jardins</td>\n",
       "      <td>E38</td>\n",
       "      <td>PROPRIA</td>\n",
       "      <td>Alta Excelência Diagnóstica</td>\n",
       "      <td>Brasil</td>\n",
       "      <td>SP</td>\n",
       "      <td>SP</td>\n",
       "      <td>Avenida Brasil, 1802, Bairro Jardim América, C...</td>\n",
       "      <td>01431-001</td>\n",
       "      <td>SAO PAULO</td>\n",
       "      <td>Roberto Papaleo</td>\n",
       "    </tr>\n",
       "  </tbody>\n",
       "</table>\n",
       "</div>"
      ],
      "text/plain": [
       "  Nome site CÓDIGO SAP TIPO DE UNIDADE                        MARCA    PAÍS  \\\n",
       "0   Jardins        E38         PROPRIA  Alta Excelência Diagnóstica  Brasil   \n",
       "\n",
       "  ESTADO REGIONAL                                           ENDEREÇO  \\\n",
       "0     SP       SP  Avenida Brasil, 1802, Bairro Jardim América, C...   \n",
       "\n",
       "         CEP     CIDADE      RESPONSÁVEL  \n",
       "0  01431-001  SAO PAULO  Roberto Papaleo  "
      ]
     },
     "execution_count": 4,
     "metadata": {},
     "output_type": "execute_result"
    }
   ],
   "source": [
    "df_unidades.head(1)"
   ]
  },
  {
   "cell_type": "code",
   "execution_count": 5,
   "metadata": {},
   "outputs": [
    {
     "data": {
      "text/html": [
       "<div>\n",
       "<style scoped>\n",
       "    .dataframe tbody tr th:only-of-type {\n",
       "        vertical-align: middle;\n",
       "    }\n",
       "\n",
       "    .dataframe tbody tr th {\n",
       "        vertical-align: top;\n",
       "    }\n",
       "\n",
       "    .dataframe thead th {\n",
       "        text-align: right;\n",
       "    }\n",
       "</style>\n",
       "<table border=\"1\" class=\"dataframe\">\n",
       "  <thead>\n",
       "    <tr style=\"text-align: right;\">\n",
       "      <th></th>\n",
       "      <th>BU</th>\n",
       "      <th>Mundo</th>\n",
       "      <th>x2</th>\n",
       "      <th>Planta</th>\n",
       "      <th>Country</th>\n",
       "      <th>Média de Funcionários</th>\n",
       "      <th>Medical</th>\n",
       "      <th>Endereço</th>\n",
       "      <th>Local</th>\n",
       "      <th>CEP</th>\n",
       "    </tr>\n",
       "  </thead>\n",
       "  <tbody>\n",
       "    <tr>\n",
       "      <th>0</th>\n",
       "      <td>BR</td>\n",
       "      <td>Supply</td>\n",
       "      <td>BR34</td>\n",
       "      <td>F. AGUDOS</td>\n",
       "      <td>Brazil</td>\n",
       "      <td>600</td>\n",
       "      <td>4</td>\n",
       "      <td>Rodovia Marechal Rondon Km 31</td>\n",
       "      <td>Agudos</td>\n",
       "      <td>17120-000</td>\n",
       "    </tr>\n",
       "  </tbody>\n",
       "</table>\n",
       "</div>"
      ],
      "text/plain": [
       "   BU   Mundo    x2     Planta Country  Média de Funcionários  Medical  \\\n",
       "0  BR  Supply  BR34  F. AGUDOS  Brazil                    600        4   \n",
       "\n",
       "                       Endereço   Local         CEP  \n",
       "0  Rodovia Marechal Rondon Km 31  Agudos  17120-000  "
      ]
     },
     "execution_count": 5,
     "metadata": {},
     "output_type": "execute_result"
    }
   ],
   "source": [
    "df_clientes.head(1)"
   ]
  },
  {
   "cell_type": "markdown",
   "metadata": {},
   "source": [
    "### Limpeza dos dados"
   ]
  },
  {
   "cell_type": "code",
   "execution_count": 6,
   "metadata": {},
   "outputs": [],
   "source": [
    "df_unidades = df_unidades.dropna(subset=[\"CEP\"])\n",
    "df_clientes = df_clientes.dropna(subset=[\"CEP\"])"
   ]
  },
  {
   "cell_type": "markdown",
   "metadata": {},
   "source": [
    "### Extrair coordenadas dos cep"
   ]
  },
  {
   "cell_type": "code",
   "execution_count": 7,
   "metadata": {},
   "outputs": [],
   "source": [
    "# Função que usa o google maps para extrair coord\n",
    "def cep2coord(cep: str) -> Optional[dict]:\n",
    "    # Geocoding an address\n",
    "    geocode_result = gmaps.geocode(cep + \", Brasil\")\n",
    "\n",
    "    time.sleep(1)\n",
    "    \n",
    "    if len(geocode_result) > 0:\n",
    "        return geocode_result[0][\"geometry\"][\"location\"]\n",
    "    \n",
    "    return {\n",
    "        \"lat\": None,\n",
    "        \"lng\": None\n",
    "    }"
   ]
  },
  {
   "cell_type": "code",
   "execution_count": 8,
   "metadata": {},
   "outputs": [],
   "source": [
    "# Cria duas novas colunas em df_unidade\n",
    "df_unidades[\"lat\"] = None\n",
    "df_unidades[\"lng\"] = None"
   ]
  },
  {
   "cell_type": "code",
   "execution_count": 9,
   "metadata": {},
   "outputs": [
    {
     "data": {
      "text/html": [
       "<div>\n",
       "<style scoped>\n",
       "    .dataframe tbody tr th:only-of-type {\n",
       "        vertical-align: middle;\n",
       "    }\n",
       "\n",
       "    .dataframe tbody tr th {\n",
       "        vertical-align: top;\n",
       "    }\n",
       "\n",
       "    .dataframe thead th {\n",
       "        text-align: right;\n",
       "    }\n",
       "</style>\n",
       "<table border=\"1\" class=\"dataframe\">\n",
       "  <thead>\n",
       "    <tr style=\"text-align: right;\">\n",
       "      <th></th>\n",
       "      <th>Nome site</th>\n",
       "      <th>CÓDIGO SAP</th>\n",
       "      <th>TIPO DE UNIDADE</th>\n",
       "      <th>MARCA</th>\n",
       "      <th>PAÍS</th>\n",
       "      <th>ESTADO</th>\n",
       "      <th>REGIONAL</th>\n",
       "      <th>ENDEREÇO</th>\n",
       "      <th>CEP</th>\n",
       "      <th>CIDADE</th>\n",
       "      <th>RESPONSÁVEL</th>\n",
       "      <th>lat</th>\n",
       "      <th>lng</th>\n",
       "    </tr>\n",
       "  </thead>\n",
       "  <tbody>\n",
       "    <tr>\n",
       "      <th>0</th>\n",
       "      <td>Jardins</td>\n",
       "      <td>E38</td>\n",
       "      <td>PROPRIA</td>\n",
       "      <td>Alta Excelência Diagnóstica</td>\n",
       "      <td>Brasil</td>\n",
       "      <td>SP</td>\n",
       "      <td>SP</td>\n",
       "      <td>Avenida Brasil, 1802, Bairro Jardim América, C...</td>\n",
       "      <td>01431-001</td>\n",
       "      <td>SAO PAULO</td>\n",
       "      <td>Roberto Papaleo</td>\n",
       "      <td>None</td>\n",
       "      <td>None</td>\n",
       "    </tr>\n",
       "  </tbody>\n",
       "</table>\n",
       "</div>"
      ],
      "text/plain": [
       "  Nome site CÓDIGO SAP TIPO DE UNIDADE                        MARCA    PAÍS  \\\n",
       "0   Jardins        E38         PROPRIA  Alta Excelência Diagnóstica  Brasil   \n",
       "\n",
       "  ESTADO REGIONAL                                           ENDEREÇO  \\\n",
       "0     SP       SP  Avenida Brasil, 1802, Bairro Jardim América, C...   \n",
       "\n",
       "         CEP     CIDADE      RESPONSÁVEL   lat   lng  \n",
       "0  01431-001  SAO PAULO  Roberto Papaleo  None  None  "
      ]
     },
     "execution_count": 9,
     "metadata": {},
     "output_type": "execute_result"
    }
   ],
   "source": [
    "df_unidades.head(1)"
   ]
  },
  {
   "cell_type": "code",
   "execution_count": 10,
   "metadata": {},
   "outputs": [],
   "source": [
    "# Para cada row de de_unidades, pega a lat e lng com sleep de 1s para n sobrecarregar a API\n",
    "for row in df_unidades.iterrows():\n",
    "    cep = row[1][\"CEP\"]\n",
    "    \n",
    "    coord = cep2coord(cep)\n",
    "    \n",
    "    row[1][\"lat\"] = coord[\"lat\"]\n",
    "    row[1][\"lng\"] = coord[\"lng\"]\n",
    "    \n",
    "    time.sleep(0.1)"
   ]
  },
  {
   "cell_type": "code",
   "execution_count": 11,
   "metadata": {},
   "outputs": [
    {
     "data": {
      "text/html": [
       "<div>\n",
       "<style scoped>\n",
       "    .dataframe tbody tr th:only-of-type {\n",
       "        vertical-align: middle;\n",
       "    }\n",
       "\n",
       "    .dataframe tbody tr th {\n",
       "        vertical-align: top;\n",
       "    }\n",
       "\n",
       "    .dataframe thead th {\n",
       "        text-align: right;\n",
       "    }\n",
       "</style>\n",
       "<table border=\"1\" class=\"dataframe\">\n",
       "  <thead>\n",
       "    <tr style=\"text-align: right;\">\n",
       "      <th></th>\n",
       "      <th>Nome site</th>\n",
       "      <th>CÓDIGO SAP</th>\n",
       "      <th>TIPO DE UNIDADE</th>\n",
       "      <th>MARCA</th>\n",
       "      <th>PAÍS</th>\n",
       "      <th>ESTADO</th>\n",
       "      <th>REGIONAL</th>\n",
       "      <th>ENDEREÇO</th>\n",
       "      <th>CEP</th>\n",
       "      <th>CIDADE</th>\n",
       "      <th>RESPONSÁVEL</th>\n",
       "      <th>lat</th>\n",
       "      <th>lng</th>\n",
       "    </tr>\n",
       "  </thead>\n",
       "  <tbody>\n",
       "    <tr>\n",
       "      <th>0</th>\n",
       "      <td>Jardins</td>\n",
       "      <td>E38</td>\n",
       "      <td>PROPRIA</td>\n",
       "      <td>Alta Excelência Diagnóstica</td>\n",
       "      <td>Brasil</td>\n",
       "      <td>SP</td>\n",
       "      <td>SP</td>\n",
       "      <td>Avenida Brasil, 1802, Bairro Jardim América, C...</td>\n",
       "      <td>01431-001</td>\n",
       "      <td>SAO PAULO</td>\n",
       "      <td>Roberto Papaleo</td>\n",
       "      <td>-23.5678</td>\n",
       "      <td>-46.6737</td>\n",
       "    </tr>\n",
       "  </tbody>\n",
       "</table>\n",
       "</div>"
      ],
      "text/plain": [
       "  Nome site CÓDIGO SAP TIPO DE UNIDADE                        MARCA    PAÍS  \\\n",
       "0   Jardins        E38         PROPRIA  Alta Excelência Diagnóstica  Brasil   \n",
       "\n",
       "  ESTADO REGIONAL                                           ENDEREÇO  \\\n",
       "0     SP       SP  Avenida Brasil, 1802, Bairro Jardim América, C...   \n",
       "\n",
       "         CEP     CIDADE      RESPONSÁVEL      lat      lng  \n",
       "0  01431-001  SAO PAULO  Roberto Papaleo -23.5678 -46.6737  "
      ]
     },
     "execution_count": 11,
     "metadata": {},
     "output_type": "execute_result"
    }
   ],
   "source": [
    "df_unidades.head(1)"
   ]
  },
  {
   "cell_type": "code",
   "execution_count": 12,
   "metadata": {},
   "outputs": [],
   "source": [
    "# Cria duas novas colunas em df_clientes\n",
    "df_clientes[\"lat\"] = None\n",
    "df_clientes[\"lng\"] = None"
   ]
  },
  {
   "cell_type": "code",
   "execution_count": 13,
   "metadata": {},
   "outputs": [],
   "source": [
    "# Para cada row de de_clientes, pega a lat e lng com sleep de 1s para n sobrecarregar a API\n",
    "for index, row in df_clientes.iterrows():\n",
    "    cep = row[\"CEP\"]\n",
    "    \n",
    "    coord = cep2coord(cep)\n",
    "    \n",
    "    df_clientes.loc[index, \"lat\"] = coord[\"lat\"]\n",
    "    df_clientes.loc[index, \"lng\"] = coord[\"lng\"]\n",
    "    \n",
    "    time.sleep(0.1)"
   ]
  },
  {
   "cell_type": "code",
   "execution_count": 14,
   "metadata": {},
   "outputs": [
    {
     "data": {
      "text/html": [
       "<div>\n",
       "<style scoped>\n",
       "    .dataframe tbody tr th:only-of-type {\n",
       "        vertical-align: middle;\n",
       "    }\n",
       "\n",
       "    .dataframe tbody tr th {\n",
       "        vertical-align: top;\n",
       "    }\n",
       "\n",
       "    .dataframe thead th {\n",
       "        text-align: right;\n",
       "    }\n",
       "</style>\n",
       "<table border=\"1\" class=\"dataframe\">\n",
       "  <thead>\n",
       "    <tr style=\"text-align: right;\">\n",
       "      <th></th>\n",
       "      <th>BU</th>\n",
       "      <th>Mundo</th>\n",
       "      <th>x2</th>\n",
       "      <th>Planta</th>\n",
       "      <th>Country</th>\n",
       "      <th>Média de Funcionários</th>\n",
       "      <th>Medical</th>\n",
       "      <th>Endereço</th>\n",
       "      <th>Local</th>\n",
       "      <th>CEP</th>\n",
       "      <th>lat</th>\n",
       "      <th>lng</th>\n",
       "    </tr>\n",
       "  </thead>\n",
       "  <tbody>\n",
       "    <tr>\n",
       "      <th>0</th>\n",
       "      <td>BR</td>\n",
       "      <td>Supply</td>\n",
       "      <td>BR34</td>\n",
       "      <td>F. AGUDOS</td>\n",
       "      <td>Brazil</td>\n",
       "      <td>600</td>\n",
       "      <td>4</td>\n",
       "      <td>Rodovia Marechal Rondon Km 31</td>\n",
       "      <td>Agudos</td>\n",
       "      <td>17120-000</td>\n",
       "      <td>-22.5699</td>\n",
       "      <td>-49.0817</td>\n",
       "    </tr>\n",
       "  </tbody>\n",
       "</table>\n",
       "</div>"
      ],
      "text/plain": [
       "   BU   Mundo    x2     Planta Country  Média de Funcionários  Medical  \\\n",
       "0  BR  Supply  BR34  F. AGUDOS  Brazil                    600        4   \n",
       "\n",
       "                       Endereço   Local         CEP      lat      lng  \n",
       "0  Rodovia Marechal Rondon Km 31  Agudos  17120-000 -22.5699 -49.0817  "
      ]
     },
     "execution_count": 14,
     "metadata": {},
     "output_type": "execute_result"
    }
   ],
   "source": [
    "df_clientes.head(1)"
   ]
  },
  {
   "cell_type": "markdown",
   "metadata": {},
   "source": [
    "### Calcula distância usando o openstreetmap"
   ]
  },
  {
   "cell_type": "code",
   "execution_count": 15,
   "metadata": {},
   "outputs": [],
   "source": [
    "df_unidades = df_unidades.dropna(subset=[\"lat\", \"lng\"])\n",
    "df_clientes = df_clientes.dropna(subset=[\"lat\", \"lng\"])"
   ]
  },
  {
   "cell_type": "code",
   "execution_count": 16,
   "metadata": {},
   "outputs": [],
   "source": [
    "df_result = []\n",
    "\n",
    "\n",
    "for index_cliente, row_cliente in df_clientes.iterrows():\n",
    "    \n",
    "    shortest_distance = None\n",
    "    unidade_cep = None\n",
    "    \n",
    "    cliente_coord = str(row_cliente[\"lat\"]) + \", \" + str(row_cliente[\"lng\"])\n",
    "\n",
    "    for index_unidade, row_unidade in df_unidades.iterrows():\n",
    "        unidade_coord = str(row_unidade[\"lat\"]) + \", \" + str(row_unidade[\"lng\"])\n",
    "        \n",
    "        directions_result = gmaps.directions(unidade_coord, cliente_coord, mode=\"transit\")\n",
    "        \n",
    "        if len(directions_result) > 0:\n",
    "            distance = directions_result[0][\"legs\"][0][\"distance\"][\"value\"]\n",
    "            if (shortest_distance is None and unidade_cep is None) or (distance < shortest_distance):\n",
    "                shortest_distance = distance\n",
    "                unidade_cep = row_unidade[\"CEP\"]\n",
    "            \n",
    "        time.sleep(2)\n",
    "        \n",
    "    df_result.append({\n",
    "        \"cliente_cep\": row_cliente[\"CEP\"],\n",
    "        \"unidade_cep\": unidade_cep,\n",
    "        \"distance\": shortest_distance\n",
    "    })\n",
    "        \n",
    "df_result = pd.DataFrame(df_result)"
   ]
  },
  {
   "cell_type": "code",
   "execution_count": 17,
   "metadata": {},
   "outputs": [
    {
     "data": {
      "text/html": [
       "<div>\n",
       "<style scoped>\n",
       "    .dataframe tbody tr th:only-of-type {\n",
       "        vertical-align: middle;\n",
       "    }\n",
       "\n",
       "    .dataframe tbody tr th {\n",
       "        vertical-align: top;\n",
       "    }\n",
       "\n",
       "    .dataframe thead th {\n",
       "        text-align: right;\n",
       "    }\n",
       "</style>\n",
       "<table border=\"1\" class=\"dataframe\">\n",
       "  <thead>\n",
       "    <tr style=\"text-align: right;\">\n",
       "      <th></th>\n",
       "      <th>cliente_cep</th>\n",
       "      <th>unidade_cep</th>\n",
       "      <th>distance</th>\n",
       "    </tr>\n",
       "  </thead>\n",
       "  <tbody>\n",
       "    <tr>\n",
       "      <th>0</th>\n",
       "      <td>17120-000</td>\n",
       "      <td>None</td>\n",
       "      <td>NaN</td>\n",
       "    </tr>\n",
       "    <tr>\n",
       "      <th>1</th>\n",
       "      <td>07158-900</td>\n",
       "      <td>02085-000</td>\n",
       "      <td>36183.0</td>\n",
       "    </tr>\n",
       "    <tr>\n",
       "      <th>2</th>\n",
       "      <td>17120-000</td>\n",
       "      <td>None</td>\n",
       "      <td>NaN</td>\n",
       "    </tr>\n",
       "    <tr>\n",
       "      <th>3</th>\n",
       "      <td>16018-805</td>\n",
       "      <td>None</td>\n",
       "      <td>NaN</td>\n",
       "    </tr>\n",
       "    <tr>\n",
       "      <th>4</th>\n",
       "      <td>14808-156</td>\n",
       "      <td>None</td>\n",
       "      <td>NaN</td>\n",
       "    </tr>\n",
       "    <tr>\n",
       "      <th>5</th>\n",
       "      <td>06397-110</td>\n",
       "      <td>06693-005</td>\n",
       "      <td>15058.0</td>\n",
       "    </tr>\n",
       "    <tr>\n",
       "      <th>6</th>\n",
       "      <td>09950-300</td>\n",
       "      <td>09750-670</td>\n",
       "      <td>4438.0</td>\n",
       "    </tr>\n",
       "    <tr>\n",
       "      <th>7</th>\n",
       "      <td>06815-490</td>\n",
       "      <td>04661-200</td>\n",
       "      <td>20395.0</td>\n",
       "    </tr>\n",
       "    <tr>\n",
       "      <th>8</th>\n",
       "      <td>07251-250</td>\n",
       "      <td>02085-000</td>\n",
       "      <td>28790.0</td>\n",
       "    </tr>\n",
       "    <tr>\n",
       "      <th>9</th>\n",
       "      <td>09372-050</td>\n",
       "      <td>09750-670</td>\n",
       "      <td>19482.0</td>\n",
       "    </tr>\n",
       "    <tr>\n",
       "      <th>10</th>\n",
       "      <td>03107-000</td>\n",
       "      <td>02030-100</td>\n",
       "      <td>7092.0</td>\n",
       "    </tr>\n",
       "    <tr>\n",
       "      <th>11</th>\n",
       "      <td>12241-421</td>\n",
       "      <td>12210-120</td>\n",
       "      <td>12025.0</td>\n",
       "    </tr>\n",
       "    <tr>\n",
       "      <th>12</th>\n",
       "      <td>01522-020</td>\n",
       "      <td>02030-100</td>\n",
       "      <td>10277.0</td>\n",
       "    </tr>\n",
       "  </tbody>\n",
       "</table>\n",
       "</div>"
      ],
      "text/plain": [
       "   cliente_cep unidade_cep  distance\n",
       "0    17120-000        None       NaN\n",
       "1    07158-900   02085-000   36183.0\n",
       "2    17120-000        None       NaN\n",
       "3    16018-805        None       NaN\n",
       "4    14808-156        None       NaN\n",
       "5    06397-110   06693-005   15058.0\n",
       "6    09950-300   09750-670    4438.0\n",
       "7    06815-490   04661-200   20395.0\n",
       "8    07251-250   02085-000   28790.0\n",
       "9    09372-050   09750-670   19482.0\n",
       "10   03107-000   02030-100    7092.0\n",
       "11   12241-421   12210-120   12025.0\n",
       "12   01522-020   02030-100   10277.0"
      ]
     },
     "execution_count": 17,
     "metadata": {},
     "output_type": "execute_result"
    }
   ],
   "source": [
    "df_result.head(30)"
   ]
  },
  {
   "cell_type": "code",
   "execution_count": null,
   "metadata": {},
   "outputs": [],
   "source": [
    "writer = pd.ExcelWriter('../data/SampleAddress_processed.xlsx', engine='xlsxwriter')\n",
    "\n",
    "df_unidades.to_excel(writer, sheet_name='Unidades')\n",
    "df_clientes.to_excel(writer, sheet_name='Clientes')\n",
    "df_result.to_excel(writer, sheet_name='Distancias')\n",
    "\n",
    "writer.save()"
   ]
  },
  {
   "cell_type": "code",
   "execution_count": null,
   "metadata": {},
   "outputs": [],
   "source": []
  }
 ],
 "metadata": {
  "kernelspec": {
   "display_name": "venv",
   "language": "python",
   "name": "venv"
  },
  "language_info": {
   "codemirror_mode": {
    "name": "ipython",
    "version": 3
   },
   "file_extension": ".py",
   "mimetype": "text/x-python",
   "name": "python",
   "nbconvert_exporter": "python",
   "pygments_lexer": "ipython3",
   "version": "3.7.6"
  }
 },
 "nbformat": 4,
 "nbformat_minor": 4
}
